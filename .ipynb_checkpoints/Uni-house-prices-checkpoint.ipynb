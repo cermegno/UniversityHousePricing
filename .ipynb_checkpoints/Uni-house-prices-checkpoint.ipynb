{
 "cells": [
  {
   "cell_type": "code",
   "execution_count": 112,
   "metadata": {
    "collapsed": true
   },
   "outputs": [],
   "source": [
    "import pandas as pd\n",
    "import numpy as np"
   ]
  },
  {
   "cell_type": "markdown",
   "metadata": {
    "collapsed": true
   },
   "source": [
    "# Resilience of university house prices\n",
    "I always suspected that the impact of economic recessions in small university cities was smaller due to the sustained student rental market. But I didnt have a way to know until I decided to lear a bit of Data Science with Python :P\n",
    "\n",
    "For this exercise I am going to need 3 pieces of information:\n",
    "* Evolution of house prices in the US (\"US-house-prices.csv\")\n",
    "* List of cities where university students represent a large percentage of the population (\"uni-cities.txt\")\n",
    "* Evolution of GDP over time (\"GDP.xls\")\n",
    "\n",
    "Observations:\n",
    "* An economic recession starts with 2 quarters of GDP decline and ends wit 2 quarters of GDP growth\n",
    "* The house price data I got only goes back to 1996 so I will focus on the last recession, ie the financial crisis circa 2008\n",
    "* The house price data shows a monthly evolution but the GDP data is in quarters. I'll stick with quarters\n"
   ]
  },
  {
   "cell_type": "code",
   "execution_count": 113,
   "metadata": {
    "collapsed": false
   },
   "outputs": [],
   "source": [
    "# Dictionary to map state names to acronyms\n",
    "states = {'OH': 'Ohio', 'KY': 'Kentucky', 'AS': 'American Samoa', 'NV': 'Nevada', 'WY': 'Wyoming', 'NA': 'National', 'AL': 'Alabama', 'MD': 'Maryland', 'AK': 'Alaska', 'UT': 'Utah', 'OR': 'Oregon', 'MT': 'Montana', 'IL': 'Illinois', 'TN': 'Tennessee', 'DC': 'District of Columbia', 'VT': 'Vermont', 'ID': 'Idaho', 'AR': 'Arkansas', 'ME': 'Maine', 'WA': 'Washington', 'HI': 'Hawaii', 'WI': 'Wisconsin', 'MI': 'Michigan', 'IN': 'Indiana', 'NJ': 'New Jersey', 'AZ': 'Arizona', 'GU': 'Guam', 'MS': 'Mississippi', 'PR': 'Puerto Rico', 'NC': 'North Carolina', 'TX': 'Texas', 'SD': 'South Dakota', 'MP': 'Northern Mariana Islands', 'IA': 'Iowa', 'MO': 'Missouri', 'CT': 'Connecticut', 'WV': 'West Virginia', 'SC': 'South Carolina', 'LA': 'Louisiana', 'KS': 'Kansas', 'NY': 'New York', 'NE': 'Nebraska', 'OK': 'Oklahoma', 'FL': 'Florida', 'CA': 'California', 'CO': 'Colorado', 'PA': 'Pennsylvania', 'DE': 'Delaware', 'NM': 'New Mexico', 'RI': 'Rhode Island', 'MN': 'Minnesota', 'VI': 'Virgin Islands', 'NH': 'New Hampshire', 'MA': 'Massachusetts', 'GA': 'Georgia', 'ND': 'North Dakota', 'VA': 'Virginia'}"
   ]
  },
  {
   "cell_type": "code",
   "execution_count": 114,
   "metadata": {
    "collapsed": false
   },
   "outputs": [
    {
     "data": {
      "text/html": [
       "<div>\n",
       "<table border=\"1\" class=\"dataframe\">\n",
       "  <thead>\n",
       "    <tr style=\"text-align: right;\">\n",
       "      <th></th>\n",
       "      <th>State</th>\n",
       "      <th>RegionName</th>\n",
       "    </tr>\n",
       "  </thead>\n",
       "  <tbody>\n",
       "    <tr>\n",
       "      <th>0</th>\n",
       "      <td>Alabama</td>\n",
       "      <td>Auburn</td>\n",
       "    </tr>\n",
       "    <tr>\n",
       "      <th>1</th>\n",
       "      <td>Alabama</td>\n",
       "      <td>Florence</td>\n",
       "    </tr>\n",
       "    <tr>\n",
       "      <th>2</th>\n",
       "      <td>Alabama</td>\n",
       "      <td>Jacksonville</td>\n",
       "    </tr>\n",
       "    <tr>\n",
       "      <th>3</th>\n",
       "      <td>Alabama</td>\n",
       "      <td>Livingston</td>\n",
       "    </tr>\n",
       "    <tr>\n",
       "      <th>4</th>\n",
       "      <td>Alabama</td>\n",
       "      <td>Montevallo</td>\n",
       "    </tr>\n",
       "    <tr>\n",
       "      <th>5</th>\n",
       "      <td>Alabama</td>\n",
       "      <td>Troy</td>\n",
       "    </tr>\n",
       "    <tr>\n",
       "      <th>6</th>\n",
       "      <td>Alabama</td>\n",
       "      <td>Tuscaloosa</td>\n",
       "    </tr>\n",
       "    <tr>\n",
       "      <th>7</th>\n",
       "      <td>Alabama</td>\n",
       "      <td>Tuskegee</td>\n",
       "    </tr>\n",
       "    <tr>\n",
       "      <th>8</th>\n",
       "      <td>Alaska</td>\n",
       "      <td>Fairbanks</td>\n",
       "    </tr>\n",
       "    <tr>\n",
       "      <th>9</th>\n",
       "      <td>Arizona</td>\n",
       "      <td>Flagstaff</td>\n",
       "    </tr>\n",
       "  </tbody>\n",
       "</table>\n",
       "</div>"
      ],
      "text/plain": [
       "     State    RegionName\n",
       "0  Alabama        Auburn\n",
       "1  Alabama      Florence\n",
       "2  Alabama  Jacksonville\n",
       "3  Alabama    Livingston\n",
       "4  Alabama    Montevallo\n",
       "5  Alabama          Troy\n",
       "6  Alabama    Tuscaloosa\n",
       "7  Alabama      Tuskegee\n",
       "8   Alaska     Fairbanks\n",
       "9  Arizona     Flagstaff"
      ]
     },
     "execution_count": 114,
     "metadata": {},
     "output_type": "execute_result"
    }
   ],
   "source": [
    "def clean_university_list():\n",
    "    '''I need to keep state names because there are cities with the same name in different states'''\n",
    "    import re\n",
    "    f = open('uni-cities.txt', 'r')\n",
    "    universities = f.readlines()\n",
    "    f.close\n",
    "    StateCityPairs = []\n",
    "    for line in universities:\n",
    "        line = line.rstrip()\n",
    "        # Lines ending in [edit] contain state names\n",
    "        if re.search('\\[edit\\]$', line):\n",
    "            State = re.sub(r'\\[edit\\]$', '', line)\n",
    "        else:\n",
    "            City = re.sub(r' \\(.+$', '', line)\n",
    "            #Append new pair to 'StateCityPairs'\n",
    "            StateCityPairs.append([State,City])\n",
    "    #Let's build the dataframe\n",
    "    df = pd.DataFrame(StateCityPairs, columns=[\"State\",\"RegionName\"])\n",
    "    return df\n",
    "\n",
    "clean_university_list().head(10)\n"
   ]
  },
  {
   "cell_type": "code",
   "execution_count": 115,
   "metadata": {
    "collapsed": false
   },
   "outputs": [
    {
     "data": {
      "text/plain": [
       "<matplotlib.figure.Figure at 0x1d75a9426d8>"
      ]
     },
     "metadata": {},
     "output_type": "display_data"
    },
    {
     "data": {
      "image/png": "[encoded data removed]",
      "text/plain": [
       "<matplotlib.figure.Figure at 0x1d75a974f98>"
      ]
     },
     "metadata": {},
     "output_type": "display_data"
    }
   ],
   "source": [
    "def get_GDP_data():\n",
    "    global GDP\n",
    "    GDP = pd.read_excel('GDP.xls', skiprows=9, names=['Year','GDP'], parse_cols=\"E,G\")\n",
    "    GDP = GDP.set_index('Year')\n",
    "    \n",
    "    return GDP\n",
    "\n",
    "get_GDP_data().head(5)\n",
    "\n",
    "import matplotlib.pyplot as plt\n",
    "plt.figure()\n",
    "GDP.plot(color='b').set_ylabel('Billions of chained 2009 dollars')\n",
    "plt.show()\n"
   ]
  },
  {
   "cell_type": "code",
   "execution_count": 116,
   "metadata": {
    "collapsed": false
   },
   "outputs": [
    {
     "name": "stdout",
     "output_type": "stream",
     "text": [
      "Details of all recessions contained in the data\n",
      "    Start     End\n",
      "0  1949q2  1950q2\n",
      "1  1953q4  1954q3\n",
      "2  1958q1  1958q3\n",
      "3  1970q1  1970q3\n",
      "4  1974q4  1975q3\n",
      "5  1980q3  1981q1\n",
      "6  1982q1  1983q1\n",
      "7  1991q1  1991q3\n",
      "8  2008q4  2009q4\n"
     ]
    },
    {
     "data": {
      "text/plain": [
       "'Last recession started in 2008q4 and ended in 2009q4'"
      ]
     },
     "execution_count": 116,
     "metadata": {},
     "output_type": "execute_result"
    }
   ],
   "source": [
    "def get_recession_qtrs():\n",
    "\n",
    "    get_GDP_data()\n",
    "    GDP['%Change'] = GDP.pct_change()\n",
    "    InRecession=False\n",
    "    \n",
    "    RecStartsList = []\n",
    "    RecEndsList = []\n",
    "    for q in range(len(GDP)):\n",
    "        #print (GDP.iloc[q].name, GDP.iloc[q]['%Change'])\n",
    "        if (q > 2) and (GDP.iloc[q-1]['%Change'] < 0) and (GDP.iloc[q-0]['%Change'] < 0) and (InRecession==False):\n",
    "            #print (GDP.iloc[q].name, \"Recession starts\")\n",
    "            InRecession=True\n",
    "            RecStartsList.append(GDP.iloc[q].name)\n",
    "        if (q > 2) and (GDP.iloc[q-1]['%Change'] > 0) and (GDP.iloc[q-0]['%Change'] > 0) and (InRecession==True):\n",
    "            #print (GDP.iloc[q].name, \"Recession ends\")\n",
    "            InRecession=False\n",
    "            RecEndsList.append(GDP.iloc[q].name)\n",
    "    \n",
    "    RecessionDetails = pd.DataFrame()\n",
    "    RecessionDetails['Start'] = RecStartsList\n",
    "    RecessionDetails['End'] = RecEndsList\n",
    "    print(\"Details of all recessions contained in the data\")\n",
    "    print (RecessionDetails)\n",
    "\n",
    "    # Housing data goes back only to 1999 so we focus only the last recession\n",
    "    started = RecessionDetails.iloc[len(RecessionDetails)-1]['Start']\n",
    "    ended = RecessionDetails.iloc[len(RecessionDetails)-1]['End']\n",
    "    return \"Last recession started in \" + started + \" and ended in \" + ended\n",
    "\n",
    "get_recession_qtrs()"
   ]
  },
  {
   "cell_type": "code",
   "execution_count": 117,
   "metadata": {
    "collapsed": false
   },
   "outputs": [
    {
     "data": {
      "text/html": [
       "<div>\n",
       "<table border=\"1\" class=\"dataframe\">\n",
       "  <thead>\n",
       "    <tr style=\"text-align: right;\">\n",
       "      <th></th>\n",
       "      <th></th>\n",
       "      <th>2008q1</th>\n",
       "      <th>2008q2</th>\n",
       "      <th>2008q3</th>\n",
       "      <th>2008q4</th>\n",
       "      <th>2009q1</th>\n",
       "      <th>2009q2</th>\n",
       "      <th>2009q3</th>\n",
       "      <th>2009q4</th>\n",
       "    </tr>\n",
       "    <tr>\n",
       "      <th>State</th>\n",
       "      <th>RegionName</th>\n",
       "      <th></th>\n",
       "      <th></th>\n",
       "      <th></th>\n",
       "      <th></th>\n",
       "      <th></th>\n",
       "      <th></th>\n",
       "      <th></th>\n",
       "      <th></th>\n",
       "    </tr>\n",
       "  </thead>\n",
       "  <tbody>\n",
       "    <tr>\n",
       "      <th>New York</th>\n",
       "      <th>New York</th>\n",
       "      <td>508500.000000</td>\n",
       "      <td>503933.333333</td>\n",
       "      <td>499766.666667</td>\n",
       "      <td>487933.333333</td>\n",
       "      <td>477733.333333</td>\n",
       "      <td>465833.333333</td>\n",
       "      <td>455933.333333</td>\n",
       "      <td>456900.0</td>\n",
       "    </tr>\n",
       "    <tr>\n",
       "      <th>California</th>\n",
       "      <th>Los Angeles</th>\n",
       "      <td>535300.000000</td>\n",
       "      <td>502266.666667</td>\n",
       "      <td>469500.000000</td>\n",
       "      <td>443966.666667</td>\n",
       "      <td>426266.666667</td>\n",
       "      <td>413900.000000</td>\n",
       "      <td>406366.666667</td>\n",
       "      <td>403550.0</td>\n",
       "    </tr>\n",
       "    <tr>\n",
       "      <th>Illinois</th>\n",
       "      <th>Chicago</th>\n",
       "      <td>243733.333333</td>\n",
       "      <td>237900.000000</td>\n",
       "      <td>232000.000000</td>\n",
       "      <td>227033.333333</td>\n",
       "      <td>223766.666667</td>\n",
       "      <td>219700.000000</td>\n",
       "      <td>214100.000000</td>\n",
       "      <td>212100.0</td>\n",
       "    </tr>\n",
       "    <tr>\n",
       "      <th>Pennsylvania</th>\n",
       "      <th>Philadelphia</th>\n",
       "      <td>119566.666667</td>\n",
       "      <td>118133.333333</td>\n",
       "      <td>116933.333333</td>\n",
       "      <td>115866.666667</td>\n",
       "      <td>116200.000000</td>\n",
       "      <td>116166.666667</td>\n",
       "      <td>116733.333333</td>\n",
       "      <td>118100.0</td>\n",
       "    </tr>\n",
       "    <tr>\n",
       "      <th>Arizona</th>\n",
       "      <th>Phoenix</th>\n",
       "      <td>218633.333333</td>\n",
       "      <td>205266.666667</td>\n",
       "      <td>193766.666667</td>\n",
       "      <td>183333.333333</td>\n",
       "      <td>177566.666667</td>\n",
       "      <td>168233.333333</td>\n",
       "      <td>155933.333333</td>\n",
       "      <td>145750.0</td>\n",
       "    </tr>\n",
       "    <tr>\n",
       "      <th>Nevada</th>\n",
       "      <th>Las Vegas</th>\n",
       "      <td>250933.333333</td>\n",
       "      <td>232300.000000</td>\n",
       "      <td>213366.666667</td>\n",
       "      <td>194933.333333</td>\n",
       "      <td>181200.000000</td>\n",
       "      <td>164333.333333</td>\n",
       "      <td>146233.333333</td>\n",
       "      <td>137450.0</td>\n",
       "    </tr>\n",
       "    <tr>\n",
       "      <th>California</th>\n",
       "      <th>San Diego</th>\n",
       "      <td>461966.666667</td>\n",
       "      <td>441400.000000</td>\n",
       "      <td>424666.666667</td>\n",
       "      <td>407633.333333</td>\n",
       "      <td>395700.000000</td>\n",
       "      <td>389500.000000</td>\n",
       "      <td>391500.000000</td>\n",
       "      <td>397150.0</td>\n",
       "    </tr>\n",
       "    <tr>\n",
       "      <th>Texas</th>\n",
       "      <th>Dallas</th>\n",
       "      <td>119900.000000</td>\n",
       "      <td>115366.666667</td>\n",
       "      <td>112166.666667</td>\n",
       "      <td>109900.000000</td>\n",
       "      <td>107666.666667</td>\n",
       "      <td>105100.000000</td>\n",
       "      <td>104400.000000</td>\n",
       "      <td>103550.0</td>\n",
       "    </tr>\n",
       "  </tbody>\n",
       "</table>\n",
       "</div>"
      ],
      "text/plain": [
       "                                  2008q1         2008q2         2008q3  \\\n",
       "State        RegionName                                                  \n",
       "New York     New York      508500.000000  503933.333333  499766.666667   \n",
       "California   Los Angeles   535300.000000  502266.666667  469500.000000   \n",
       "Illinois     Chicago       243733.333333  237900.000000  232000.000000   \n",
       "Pennsylvania Philadelphia  119566.666667  118133.333333  116933.333333   \n",
       "Arizona      Phoenix       218633.333333  205266.666667  193766.666667   \n",
       "Nevada       Las Vegas     250933.333333  232300.000000  213366.666667   \n",
       "California   San Diego     461966.666667  441400.000000  424666.666667   \n",
       "Texas        Dallas        119900.000000  115366.666667  112166.666667   \n",
       "\n",
       "                                  2008q4         2009q1         2009q2  \\\n",
       "State        RegionName                                                  \n",
       "New York     New York      487933.333333  477733.333333  465833.333333   \n",
       "California   Los Angeles   443966.666667  426266.666667  413900.000000   \n",
       "Illinois     Chicago       227033.333333  223766.666667  219700.000000   \n",
       "Pennsylvania Philadelphia  115866.666667  116200.000000  116166.666667   \n",
       "Arizona      Phoenix       183333.333333  177566.666667  168233.333333   \n",
       "Nevada       Las Vegas     194933.333333  181200.000000  164333.333333   \n",
       "California   San Diego     407633.333333  395700.000000  389500.000000   \n",
       "Texas        Dallas        109900.000000  107666.666667  105100.000000   \n",
       "\n",
       "                                  2009q3    2009q4  \n",
       "State        RegionName                             \n",
       "New York     New York      455933.333333  456900.0  \n",
       "California   Los Angeles   406366.666667  403550.0  \n",
       "Illinois     Chicago       214100.000000  212100.0  \n",
       "Pennsylvania Philadelphia  116733.333333  118100.0  \n",
       "Arizona      Phoenix       155933.333333  145750.0  \n",
       "Nevada       Las Vegas     146233.333333  137450.0  \n",
       "California   San Diego     391500.000000  397150.0  \n",
       "Texas        Dallas        104400.000000  103550.0  "
      ]
     },
     "execution_count": 117,
     "metadata": {},
     "output_type": "execute_result"
    }
   ],
   "source": [
    "def house_prices_to_quarters():\n",
    "\n",
    "    df = pd.read_csv('US-house-prices.csv', usecols=[*range(1,3), *range(147,170)])\n",
    "    # Might be interesting to see also how house prices evolved during the housing bubble: universities vs the rest\n",
    "    etiqs = ['2008q1','2008q2','2008q3','2008q4','2009q1','2009q2','2009q3','2009q4','State','RegionName']\n",
    "\n",
    "    alldata = []\n",
    "    for i in range(1000):\n",
    "    #for i in range(len(df)): #Uncomment this one to run on all data - it takes longer\n",
    "\n",
    "        region = df.iloc[i,0]\n",
    "        state = df.iloc[i,1]\n",
    "        ts = df.iloc[i,2:]\n",
    "        ts.index = pd.to_datetime(ts.index)\n",
    "        ts = pd.to_numeric(ts)\n",
    "        # House prices for a quarter will be the mean of the three months in that quarter\n",
    "        ts = ts.resample('Q').mean()\n",
    "        ts['State'] = states[state]\n",
    "        ts['RegionName'] = region\n",
    "        temp = list(ts.values)\n",
    "        alldata.append(temp)\n",
    "    answer = pd.DataFrame(alldata, columns=etiqs)\n",
    "    answer = answer.set_index(['State','RegionName'])\n",
    "    return answer\n",
    "\n",
    "house_prices_to_quarters().head(8)\n",
    "\n"
   ]
  },
  {
   "cell_type": "code",
   "execution_count": 118,
   "metadata": {
    "collapsed": false
   },
   "outputs": [
    {
     "name": "stdout",
     "output_type": "stream",
     "text": [
      "Length of Unis dframe :   147\n",
      "Length of rest dframe :   853\n",
      "Mean % drop  in Unis  :  5.2%\n",
      "Mean % drop elsewhere :  8.5%\n"
     ]
    }
   ],
   "source": [
    "def get_results():\n",
    "\n",
    "    df = house_prices_to_quarters()\n",
    "    \n",
    "    # The function above returned start of the recession = 2008q4 and end of the recession = 2009q4\n",
    "    recession_qtrs = ['2008q4','2009q1','2009q2','2009q3','2009q4']\n",
    "    df = df[recession_qtrs]\n",
    "    #Looking for the lowest house prices in the whole recession period\n",
    "    df['Min'] = df[recession_qtrs].min(axis=1)\n",
    "    #Drop is measured from the beginning of the recession\n",
    "    df['Drop'] = df['2008q4'] - df['Min']\n",
    "    df['%Drop'] = df['Drop'] / df['2008q4']\n",
    "    #print(df)\n",
    "    unis = clean_university_list()\n",
    "    unis = unis.set_index(['State','RegionName'])\n",
    "    nouni = pd.merge(df, unis, how='left', left_index=True, right_index=True)\n",
    "    uni =  pd.merge(df, unis, how='inner', left_index=True, right_index=True)\n",
    "    #I create a temporary key so that I can get the difference between left and inner\n",
    "    nouni['key'] = nouni.index\n",
    "    uni['key'] = uni.index\n",
    "    rest = nouni[~nouni.key.isin(uni.key)]\n",
    "\n",
    "    print(\"Length of Unis dframe :  \", len(uni))\n",
    "    print(\"Length of rest dframe :  \", len(rest))\n",
    "    print(\"Mean % drop  in Unis  : \", '{:.1%}'.format(uni['%Drop'].mean()))\n",
    "    print(\"Mean % drop elsewhere : \", '{:.1%}'.format(nouni['%Drop'].mean()))\n",
    "\n",
    "    return\n",
    "\n",
    "get_results()\n"
   ]
  },
  {
   "cell_type": "markdown",
   "metadata": {
    "collapsed": true
   },
   "source": [
    "# Conclusion\n",
    "Based on the results, during the last recession prices of houses in cities with a significant student popoulation fell but less than in the rest of the country"
   ]
  }
 ],
 "metadata": {
  "anaconda-cloud": {},
  "coursera": {
   "course_slug": "python-data-analysis",
   "graded_item_id": "Il9Fx",
   "launcher_item_id": "TeDW0",
   "part_id": "WGlun"
  },
  "kernelspec": {
   "display_name": "Python [default]",
   "language": "python",
   "name": "python3"
  },
  "language_info": {
   "codemirror_mode": {
    "name": "ipython",
    "version": 3
   },
   "file_extension": ".py",
   "mimetype": "text/x-python",
   "name": "python",
   "nbconvert_exporter": "python",
   "pygments_lexer": "ipython3",
   "version": "3.5.2"
  }
 },
 "nbformat": 4,
 "nbformat_minor": 0
}
